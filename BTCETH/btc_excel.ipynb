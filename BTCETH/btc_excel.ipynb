{
 "cells": [
  {
   "cell_type": "code",
   "execution_count": 53,
   "metadata": {},
   "outputs": [],
   "source": [
    "import json,urllib,time,math\n",
    "from urllib.parse import urlencode"
   ]
  },
  {
   "cell_type": "code",
   "execution_count": 41,
   "metadata": {},
   "outputs": [],
   "source": [
    "def get_bitflyer_data():    \n",
    "    url_bitflyer = 'https://api.bitflyer.com/v1/getboard'\n",
    "    params_b_btc_uncode = {\n",
    "      'product_code' : 'BTC_JPY',\n",
    "    }\n",
    "    params_b_btc = urlencode(params_b_btc_uncode)\n",
    "\n",
    "    params_b_eth_uncode = {\n",
    "      'product_code' : 'ETH_JPY',\n",
    "    }\n",
    "    params_b_eth = urlencode(params_b_eth_uncode)\n",
    "\n",
    "    f_b_btc = urllib.request.urlopen('%s?%s' % (url_bitflyer, params_b_btc))\n",
    "    f_b_eth = urllib.request.urlopen('%s?%s' % (url_bitflyer, params_b_eth))\n",
    "\n",
    "    data_api_b_btc = f_b_btc.read()\n",
    "    data_api_b_eth = f_b_eth.read()\n",
    "\n",
    "    b_btc = json.loads(data_api_b_btc)\n",
    "    b_eth = json.loads(data_api_b_eth)\n",
    "    return b_btc[\"mid_price\"],b_eth[\"mid_price\"]\n",
    "    "
   ]
  },
  {
   "cell_type": "code",
   "execution_count": 40,
   "metadata": {},
   "outputs": [],
   "source": [
    "def get_huobi_data():\n",
    "\n",
    "    headers = {'User-Agent':'Mozilla/5.0 (Windows NT 6.1; WOW64; rv:23.0) Gecko/20100101 Firefox/23.0'}\n",
    "\n",
    "    url_huobi = 'https://api.huobi.pro/market/history/kline'\n",
    "    params_h_btc_uncode = {\n",
    "      'symbol' : 'btcusdt',\n",
    "      'period' : '1min',\n",
    "      'size' : 1\n",
    "    }\n",
    "    params_h_btc = urlencode(params_h_btc_uncode)\n",
    "\n",
    "    params_h_eth_uncode = {\n",
    "      'symbol' : 'ethusdt',\n",
    "      'period' : '1min',\n",
    "      'size' : 1\n",
    "    }\n",
    "    params_h_eth = urlencode(params_h_eth_uncode)\n",
    "\n",
    "    #f_h_btc = urllib.request.urlopen('%s?%s' % (url_huobi, params_h_btc))\n",
    "    req_btc = urllib.request.Request(url='%s?%s' % (url_huobi, params_h_btc), headers=headers)\n",
    "    f_h_btc=urllib.request.urlopen(req_btc)\n",
    "\n",
    "    #f_h_eth = urllib.request.urlopen('%s?%s' % (url_huobi, params_h_eth))\n",
    "    req_eth = urllib.request.Request(url='%s?%s' % (url_huobi, params_h_eth), headers=headers)\n",
    "    f_h_eth = urllib.request.urlopen(req_eth)\n",
    "    print(f_h_btc)\n",
    "\n",
    "    data_api_h_btc = f_h_btc.read()\n",
    "    data_api_h_eth = f_h_eth.read()\n",
    "\n",
    "    h_btc = json.loads(data_api_h_btc)\n",
    "    h_eth = json.loads(data_api_h_eth)\n",
    "    #print(h_btc[\"mid_price\"],b_eth[\"mid_price\"])\n",
    "\n",
    "\n",
    "    return h_btc['data'][0]['close'],h_eth['data'][0]['close']"
   ]
  },
  {
   "cell_type": "code",
   "execution_count": 56,
   "metadata": {},
   "outputs": [],
   "source": [
    "def cal_diff_radio():\n",
    "    b_btc_price,b_eth_price=get_bitflyer_data()\n",
    "    h_btc_price,h_eth_price=get_huobi_data()\n",
    "\n",
    "    b_radio=b_btc_price/b_eth_price\n",
    "    h_radio=h_btc_price/h_eth_price\n",
    "\n",
    "    diff=b_radio-h_radio\n",
    "    diff_radio=diff/b_radio\n",
    "    print(f\"{b_btc_price}\\t{b_eth_price}\\t{b_radio}\\t{h_btc_price}\\t{h_eth_price}\\t{h_radio}\\t{diff}\\t{diff_radio*100}%\\t{math.log(abs(diff_radio*100),2)}\")"
   ]
  },
  {
   "cell_type": "code",
   "execution_count": 58,
   "metadata": {},
   "outputs": [
    {
     "name": "stdout",
     "output_type": "stream",
     "text": [
      "<http.client.HTTPResponse object at 0x000002AB63363E50>\n",
      "5587789.0\t180619.0\t30.936883716552522\t52996.34\t1712.75\t30.942250766311485\t-0.00536704975896285\t-0.01734838520950077%\t-5.8490548070094635\n",
      "<http.client.HTTPResponse object at 0x000002AB63363D60>\n",
      "5585656.0\t180601.0\t30.9281565439837\t52989.05\t1712.36\t30.945040762456497\t-0.01688421847279642\t-0.05459173891849957%\t-4.195173537586164\n",
      "<http.client.HTTPResponse object at 0x000002AB63363E50>\n",
      "5585291.0\t180354.0\t30.96848974794016\t52990.59\t1711.49\t30.961670824836837\t0.006818923103324437\t0.02201890747280626%\t-5.505113302283301\n",
      "<http.client.HTTPResponse object at 0x000002AB63363D60>\n",
      "5585291.0\t180300.0\t30.977764836383805\t53019.2\t1713.35\t30.94475734671842\t0.03300748966538691\t0.10655219910062448%\t-3.2303677260856047\n",
      "<http.client.HTTPResponse object at 0x000002AB63363E50>\n",
      "5586561.0\t180381.0\t30.970894939045685\t53030.74\t1712.43\t30.968121324667283\t0.002773614378401845\t0.008955551280841707%\t-6.8030020410989\n",
      "<http.client.HTTPResponse object at 0x000002AB63363D60>\n",
      "5586561.0\t180361.0\t30.97432926186925\t53005.55\t1710.9\t30.981091823017124\t-0.006762561147873214\t-0.021832792861145894%\t-5.517359497412008\n",
      "<http.client.HTTPResponse object at 0x000002AB63363E50>\n",
      "5586026.0\t180227.0\t30.99439040765257\t52968.03\t1708.74\t30.998296990765123\t-0.003906583112552653\t-0.012604161789186571%\t-6.309956011506327\n",
      "<http.client.HTTPResponse object at 0x000002AB63363D60>\n",
      "5583223.0\t180135.0\t30.99465956088489\t52956.54\t1708.88\t30.989033753101445\t0.00562580778344568\t0.018150893938339692%\t-5.783815586531639\n",
      "<http.client.HTTPResponse object at 0x000002AB63363E50>\n",
      "5582537.0\t180080.0\t31.00031652598845\t52930.52\t1707.96\t30.990491580599073\t0.009824945389375728\t0.031693048621420354%\t-4.979689747490352\n",
      "<http.client.HTTPResponse object at 0x000002AB63363D60>\n",
      "5578467.0\t179920.0\t31.00526345042241\t52930.52\t1707.31\t31.002290152344916\t0.0029732980774959117\t0.009589655905521435%\t-6.704305235039538\n",
      "<http.client.HTTPResponse object at 0x000002AB63363E50>\n",
      "5578029.0\t179781.0\t31.026799272448145\t52924.16\t1706.7\t31.00964434288393\t0.017154929564213717\t0.05529068407467774%\t-4.176819768473079\n",
      "<http.client.HTTPResponse object at 0x000002AB63363D60>\n",
      "5577621.0\t179804.0\t31.020561277835867\t52942.45\t1708.91\t30.980244717392956\t0.04031656044291054\t0.12996721781342058%\t-2.9437803228811563\n",
      "<http.client.HTTPResponse object at 0x000002AB63363E50>\n",
      "5579367.0\t180423.0\t30.92381237425384\t52963.7\t1708.46\t31.000842864333958\t-0.07703049008011931\t-0.2490976505350045%\t-2.00521668060481\n",
      "<http.client.HTTPResponse object at 0x000002AB63363D60>\n",
      "5581639.0\t180418.0\t30.937262357414447\t52942.29\t1707.31\t31.009184038048158\t-0.07192168063371085\t-0.23247590495502923%\t-2.104846899541001\n",
      "<http.client.HTTPResponse object at 0x000002AB63363E50>\n",
      "5581442.0\t179890.0\t31.026972038467953\t52916.94\t1706.02\t31.017772359057926\t0.009199679410027528\t0.02965058723300989%\t-5.075795511992932\n",
      "<http.client.HTTPResponse object at 0x000002AB63363D60>\n",
      "5578502.0\t179864.0\t31.015111417515456\t52921.58\t1706.29\t31.015583517456\t-0.00047209994054497884\t-0.0015221610336642716%\t-9.35966329101156\n"
     ]
    },
    {
     "ename": "KeyboardInterrupt",
     "evalue": "",
     "output_type": "error",
     "traceback": [
      "\u001b[1;31m---------------------------------------------------------------------------\u001b[0m",
      "\u001b[1;31mKeyboardInterrupt\u001b[0m                         Traceback (most recent call last)",
      "\u001b[1;32m<ipython-input-58-b91347daa203>\u001b[0m in \u001b[0;36m<module>\u001b[1;34m\u001b[0m\n\u001b[0;32m      1\u001b[0m \u001b[1;32mwhile\u001b[0m\u001b[1;33m(\u001b[0m\u001b[1;36m1\u001b[0m\u001b[1;33m)\u001b[0m\u001b[1;33m:\u001b[0m\u001b[1;33m\u001b[0m\u001b[1;33m\u001b[0m\u001b[0m\n\u001b[0;32m      2\u001b[0m     \u001b[0mcal_diff_radio\u001b[0m\u001b[1;33m(\u001b[0m\u001b[1;33m)\u001b[0m\u001b[1;33m\u001b[0m\u001b[1;33m\u001b[0m\u001b[0m\n\u001b[1;32m----> 3\u001b[1;33m     \u001b[0mtime\u001b[0m\u001b[1;33m.\u001b[0m\u001b[0msleep\u001b[0m\u001b[1;33m(\u001b[0m\u001b[1;36m1\u001b[0m\u001b[1;33m)\u001b[0m\u001b[1;33m\u001b[0m\u001b[1;33m\u001b[0m\u001b[0m\n\u001b[0m",
      "\u001b[1;31mKeyboardInterrupt\u001b[0m: "
     ]
    }
   ],
   "source": [
    "while(1):\n",
    "    cal_diff_radio()\n",
    "    time.sleep(1)"
   ]
  },
  {
   "cell_type": "code",
   "execution_count": null,
   "metadata": {},
   "outputs": [],
   "source": []
  }
 ],
 "metadata": {
  "kernelspec": {
   "display_name": "Python 3",
   "language": "python",
   "name": "python3"
  },
  "language_info": {
   "codemirror_mode": {
    "name": "ipython",
    "version": 3
   },
   "file_extension": ".py",
   "mimetype": "text/x-python",
   "name": "python",
   "nbconvert_exporter": "python",
   "pygments_lexer": "ipython3",
   "version": "3.8.5"
  }
 },
 "nbformat": 4,
 "nbformat_minor": 4
}
