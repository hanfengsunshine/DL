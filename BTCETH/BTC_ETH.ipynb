{
 "cells": [
  {
   "cell_type": "code",
   "execution_count": 4,
   "metadata": {},
   "outputs": [],
   "source": [
    "from tkinter import *\n",
    "import hashlib,time"
   ]
  },
  {
   "cell_type": "code",
   "execution_count": 7,
   "metadata": {},
   "outputs": [],
   "source": [
    "LOG_LINE_NUM = 0\n",
    "\n",
    "class MY_GUI():\n",
    "    def __init__(self,init_window_name):\n",
    "        self.init_window_name = init_window_name\n",
    "\n",
    "\n",
    "    #设置窗口\n",
    "    def set_init_window(self):\n",
    "        self.init_window_name.title(\"BTC and ETH\")           #窗口名\n",
    "        #self.init_window_name.geometry('320x160+10+10')                         #290 160为窗口大小，+10 +10 定义窗口弹出时的默认展示位置\n",
    "        self.init_window_name.geometry('1068x681+10+10')\n",
    "        #self.init_window_name[\"bg\"] = \"pink\"                                    #窗口背景色，其他背景色见：blog.csdn.net/chl0000/article/details/7657887\n",
    "        #self.init_window_name.attributes(\"-alpha\",0.9)                          #虚化，值越小虚化程度越高\n",
    "        #标签\n",
    "        self.init_data_label = Label(self.init_window_name, text=\"待处理数据\")\n",
    "        self.init_data_label.grid(row=0, column=0)\n",
    "        self.result_data_label = Label(self.init_window_name, text=\"输出结果\")\n",
    "        self.result_data_label.grid(row=0, column=12)\n",
    "        self.log_label = Label(self.init_window_name, text=\"日志\")\n",
    "        self.log_label.grid(row=12, column=0)\n",
    "        #文本框\n",
    "        self.init_data_Text = Text(self.init_window_name, width=67, height=35)  #原始数据录入框\n",
    "        self.init_data_Text.grid(row=1, column=0, rowspan=10, columnspan=10)\n",
    "        self.result_data_Text = Text(self.init_window_name, width=70, height=49)  #处理结果展示\n",
    "        self.result_data_Text.grid(row=1, column=12, rowspan=15, columnspan=10)\n",
    "        self.log_data_Text = Text(self.init_window_name, width=66, height=9)  # 日志框\n",
    "        self.log_data_Text.grid(row=13, column=0, columnspan=10)\n",
    "        #按钮\n",
    "        self.str_trans_to_md5_button = Button(self.init_window_name, text=\"字符串转MD5\", bg=\"lightblue\", width=10,command=self.str_trans_to_md5)  # 调用内部方法  加()为直接调用\n",
    "        self.str_trans_to_md5_button.grid(row=1, column=11)\n",
    "\n",
    "\n",
    "    #功能函数\n",
    "    def str_trans_to_md5(self):\n",
    "        src = self.init_data_Text.get(1.0,END).strip().replace(\"\\n\",\"\").encode()\n",
    "        #print(\"src =\",src)\n",
    "        if src:\n",
    "            try:\n",
    "                myMd5 = hashlib.md5()\n",
    "                myMd5.update(src)\n",
    "                myMd5_Digest = myMd5.hexdigest()\n",
    "                #print(myMd5_Digest)\n",
    "                #输出到界面\n",
    "                self.result_data_Text.delete(1.0,END)\n",
    "                self.result_data_Text.insert(1.0,myMd5_Digest)\n",
    "                self.write_log_to_Text(\"INFO:str_trans_to_md5 success\")\n",
    "            except:\n",
    "                self.result_data_Text.delete(1.0,END)\n",
    "                self.result_data_Text.insert(1.0,\"字符串转MD5失败\")\n",
    "        else:\n",
    "            self.write_log_to_Text(\"ERROR:str_trans_to_md5 failed\")\n",
    "\n",
    "\n",
    "    #获取当前时间\n",
    "    def get_current_time(self):\n",
    "        current_time = time.strftime('%Y-%m-%d %H:%M:%S',time.localtime(time.time()))\n",
    "        return current_time\n",
    "\n",
    "\n",
    "    #日志动态打印\n",
    "    def write_log_to_Text(self,logmsg):\n",
    "        global LOG_LINE_NUM\n",
    "        current_time = self.get_current_time()\n",
    "        logmsg_in = str(current_time) +\" \" + str(logmsg) + \"\\n\"      #换行\n",
    "        if LOG_LINE_NUM <= 7:\n",
    "            self.log_data_Text.insert(END, logmsg_in)\n",
    "            LOG_LINE_NUM = LOG_LINE_NUM + 1\n",
    "        else:\n",
    "            self.log_data_Text.delete(1.0,2.0)\n",
    "            self.log_data_Text.insert(END, logmsg_in)\n",
    "\n",
    "\n",
    "def gui_start():\n",
    "    init_window = Tk()              #实例化出一个父窗口\n",
    "    ZMJ_PORTAL = MY_GUI(init_window)\n",
    "    # 设置根窗口默认属性\n",
    "    ZMJ_PORTAL.set_init_window()\n",
    "\n",
    "    init_window.mainloop()          #父窗口进入事件循环，可以理解为保持窗口运行，否则界面不展示\n"
   ]
  },
  {
   "cell_type": "code",
   "execution_count": 8,
   "metadata": {},
   "outputs": [],
   "source": [
    "gui_start()"
   ]
  },
  {
   "cell_type": "code",
   "execution_count": null,
   "metadata": {},
   "outputs": [],
   "source": []
  }
 ],
 "metadata": {
  "kernelspec": {
   "display_name": "Python 3",
   "language": "python",
   "name": "python3"
  },
  "language_info": {
   "codemirror_mode": {
    "name": "ipython",
    "version": 3
   },
   "file_extension": ".py",
   "mimetype": "text/x-python",
   "name": "python",
   "nbconvert_exporter": "python",
   "pygments_lexer": "ipython3",
   "version": "3.8.5"
  }
 },
 "nbformat": 4,
 "nbformat_minor": 4
}
