{
 "cells": [
  {
   "cell_type": "code",
   "execution_count": 1,
   "metadata": {},
   "outputs": [],
   "source": [
    "import pandas as pd"
   ]
  },
  {
   "cell_type": "code",
   "execution_count": 2,
   "metadata": {},
   "outputs": [],
   "source": [
    "import matplotlib.pyplot as plt"
   ]
  },
  {
   "cell_type": "code",
   "execution_count": 21,
   "metadata": {},
   "outputs": [],
   "source": [
    "import numpy as np\n",
    "\n",
    "from bokeh.layouts import gridplot\n",
    "from bokeh.plotting import figure, output_file, show"
   ]
  },
  {
   "cell_type": "code",
   "execution_count": 3,
   "metadata": {},
   "outputs": [],
   "source": [
    "pd.set_option('precision', 10)"
   ]
  },
  {
   "cell_type": "code",
   "execution_count": 4,
   "metadata": {},
   "outputs": [
    {
     "ename": "NameError",
     "evalue": "name 'x' is not defined",
     "output_type": "error",
     "traceback": [
      "\u001b[1;31m---------------------------------------------------------------------------\u001b[0m",
      "\u001b[1;31mNameError\u001b[0m                                 Traceback (most recent call last)",
      "\u001b[1;32m<ipython-input-4-d8b592bf313e>\u001b[0m in \u001b[0;36m<module>\u001b[1;34m()\u001b[0m\n\u001b[1;32m----> 1\u001b[1;33m \u001b[0mplt\u001b[0m\u001b[1;33m.\u001b[0m\u001b[0mplot\u001b[0m\u001b[1;33m(\u001b[0m\u001b[0mx\u001b[0m\u001b[1;33m,\u001b[0m\u001b[0my\u001b[0m\u001b[1;33m)\u001b[0m\u001b[1;33m\u001b[0m\u001b[0m\n\u001b[0m",
      "\u001b[1;31mNameError\u001b[0m: name 'x' is not defined"
     ]
    }
   ],
   "source": [
    "plt.plot(x,y)"
   ]
  },
  {
   "cell_type": "code",
   "execution_count": null,
   "metadata": {},
   "outputs": [],
   "source": [
    "plt.plot(x,z,color='red',linewidth=1,linestyle='--')"
   ]
  },
  {
   "cell_type": "code",
   "execution_count": 5,
   "metadata": {},
   "outputs": [],
   "source": [
    "df = pd.read_csv(\"2020_0428.1AM_2021April02.15PM - 2020_0428.1AM_2021April02.15PM.csv\")"
   ]
  },
  {
   "cell_type": "code",
   "execution_count": 6,
   "metadata": {},
   "outputs": [
    {
     "name": "stdout",
     "output_type": "stream",
     "text": [
      "      data__priceUsd       data__time  data__circulatingSupply  \\\n",
      "0        7751.938717  1588035600000.0               18348975.0   \n",
      "1        7711.170253  1588039200000.0               18348987.0   \n",
      "2        7715.905378  1588042800000.0               18349112.0   \n",
      "3        7714.838684  1588046400000.0               18349112.0   \n",
      "4        7693.155903  1588050000000.0               18349112.0   \n",
      "5        7708.021888  1588053600000.0               18349112.0   \n",
      "6        7723.117582  1588057200000.0               18349112.0   \n",
      "7        7714.810792  1588060800000.0               18349112.0   \n",
      "8        7701.488548  1588064400000.0               18349112.0   \n",
      "9        7750.162565  1588068000000.0               18349112.0   \n",
      "10       7758.341052  1588071600000.0               18349775.0   \n",
      "11       7744.139390  1588075200000.0               18349862.0   \n",
      "12       7770.387498  1588078800000.0               18349950.0   \n",
      "13       7742.881007  1588082400000.0               18350050.0   \n",
      "14       7710.135901  1588086000000.0               18350125.0   \n",
      "15       7729.222869  1588089600000.0               18350200.0   \n",
      "16       7723.689227  1588093200000.0               18350350.0   \n",
      "17       7741.024965  1588096800000.0               18350462.0   \n",
      "18       7736.722227  1588100400000.0               18350512.0   \n",
      "19       7727.304372  1588104000000.0               18350600.0   \n",
      "20       7745.707623  1588107600000.0               18350725.0   \n",
      "21       7753.939428  1588111200000.0               18350737.0   \n",
      "22       7820.251169  1588114800000.0               18350812.0   \n",
      "23       7761.545361  1588118400000.0               18350850.0   \n",
      "24       7746.655485  1588122000000.0               18350887.0   \n",
      "25       7773.806091  1588125600000.0               18351025.0   \n",
      "26       7781.169559  1588129200000.0               18351075.0   \n",
      "27       7826.196858  1588132800000.0               18351137.0   \n",
      "28       7848.415225  1588136400000.0               18351162.0   \n",
      "29       7873.188943  1588140000000.0               18351287.0   \n",
      "...              ...              ...                      ...   \n",
      "8121    58696.414700  1620000000000.0               18670556.0   \n",
      "8122    58660.562840  1620000000000.0               18670556.0   \n",
      "8123    58789.134790  1620000000000.0               18670637.0   \n",
      "8124    59041.321140  1620000000000.0               18670637.0   \n",
      "8125    59072.321030  1620000000000.0               18670700.0   \n",
      "8126    59086.868310  1620000000000.0               18670700.0   \n",
      "8127    58846.854220  1620000000000.0               18670806.0   \n",
      "8128    58579.322360  1620000000000.0               18670806.0   \n",
      "8129    58787.651750  1620000000000.0               18670875.0   \n",
      "8130    58984.706450  1620000000000.0               18670875.0   \n",
      "8131    58940.590790  1620000000000.0               18670918.0   \n",
      "8132    58836.997810  1620000000000.0               18670918.0   \n",
      "8133    59061.521520  1620000000000.0               18671000.0   \n",
      "8134    58810.453870  1620000000000.0               18671000.0   \n",
      "8135    58671.551420  1620000000000.0               18671056.0   \n",
      "8136    58959.373470  1620000000000.0               18671056.0   \n",
      "8137    59624.092950  1620000000000.0               18671106.0   \n",
      "8138    59861.019630  1620000000000.0               18671106.0   \n",
      "8139    59636.972500  1620000000000.0               18671168.0   \n",
      "8140    59615.121120  1620000000000.0               18671168.0   \n",
      "8141    59622.839270  1620000000000.0               18671256.0   \n",
      "8142    59599.667000  1620000000000.0               18671256.0   \n",
      "8143    59577.385060  1620000000000.0               18671356.0   \n",
      "8144    59720.414220  1620000000000.0               18671356.0   \n",
      "8145    59715.720330  1620000000000.0               18671450.0   \n",
      "8146    59642.059080  1620000000000.0               18671450.0   \n",
      "8147    59580.957320  1620000000000.0               18671531.0   \n",
      "8148    59279.632960  1620000000000.0               18671531.0   \n",
      "8149    59446.745700  1620000000000.0               18671587.0   \n",
      "8150             NaN              NaN                      NaN   \n",
      "\n",
      "                    data__hour  Unnamed: 4      priceUsd             time  \\\n",
      "0     2020-04-28T01:00:00.000Z         NaN   195.1265307  1590000000000.0   \n",
      "1     2020-04-28T02:00:00.000Z         NaN   193.9936823  1590000000000.0   \n",
      "2     2020-04-28T03:00:00.000Z         NaN   194.3683161  1590000000000.0   \n",
      "3     2020-04-28T04:00:00.000Z         NaN   194.8090749  1590000000000.0   \n",
      "4     2020-04-28T05:00:00.000Z         NaN   193.8067892  1590000000000.0   \n",
      "5     2020-04-28T06:00:00.000Z         NaN   194.9141762  1590000000000.0   \n",
      "6     2020-04-28T07:00:00.000Z         NaN   195.8094492  1590000000000.0   \n",
      "7     2020-04-28T08:00:00.000Z         NaN   195.4334145  1590000000000.0   \n",
      "8     2020-04-28T09:00:00.000Z         NaN   194.2857101  1590000000000.0   \n",
      "9     2020-04-28T10:00:00.000Z         NaN   195.9795288  1590000000000.0   \n",
      "10    2020-04-28T11:00:00.000Z         NaN   196.8711629  1590000000000.0   \n",
      "11    2020-04-28T12:00:00.000Z         NaN   196.3990908  1590000000000.0   \n",
      "12    2020-04-28T13:00:00.000Z         NaN   197.3660951  1590000000000.0   \n",
      "13    2020-04-28T14:00:00.000Z         NaN   196.4164889  1590000000000.0   \n",
      "14    2020-04-28T15:00:00.000Z         NaN   195.1535755  1590000000000.0   \n",
      "15    2020-04-28T16:00:00.000Z         NaN   195.8182195  1590000000000.0   \n",
      "16    2020-04-28T17:00:00.000Z         NaN   195.8046304  1590000000000.0   \n",
      "17    2020-04-28T18:00:00.000Z         NaN   196.0955942  1590000000000.0   \n",
      "18    2020-04-28T19:00:00.000Z         NaN   196.7465344  1590000000000.0   \n",
      "19    2020-04-28T20:00:00.000Z         NaN   195.8266474  1590000000000.0   \n",
      "20    2020-04-28T21:00:00.000Z         NaN   196.6999634  1590000000000.0   \n",
      "21    2020-04-28T22:00:00.000Z         NaN   196.8168278  1590000000000.0   \n",
      "22    2020-04-28T23:00:00.000Z         NaN   198.4660234  1590000000000.0   \n",
      "23    2020-04-29T00:00:00.000Z         NaN   196.9685212  1590000000000.0   \n",
      "24    2020-04-29T01:00:00.000Z         NaN   196.9018604  1590000000000.0   \n",
      "25    2020-04-29T02:00:00.000Z         NaN   197.6669060  1590000000000.0   \n",
      "26    2020-04-29T03:00:00.000Z         NaN   197.9376430  1590000000000.0   \n",
      "27    2020-04-29T04:00:00.000Z         NaN   198.2762795  1590000000000.0   \n",
      "28    2020-04-29T05:00:00.000Z         NaN   198.8281949  1590000000000.0   \n",
      "29    2020-04-29T06:00:00.000Z         NaN   199.5598153  1590000000000.0   \n",
      "...                        ...         ...           ...              ...   \n",
      "8121  2021-04-01T11:00:00.000Z         NaN  1931.0581010  1620000000000.0   \n",
      "8122  2021-04-01T12:00:00.000Z         NaN  1922.4722390  1620000000000.0   \n",
      "8123  2021-04-01T13:00:00.000Z         NaN  1924.9711920  1620000000000.0   \n",
      "8124  2021-04-01T14:00:00.000Z         NaN  1937.9083080  1620000000000.0   \n",
      "8125  2021-04-01T15:00:00.000Z         NaN  1932.9929040  1620000000000.0   \n",
      "8126  2021-04-01T16:00:00.000Z         NaN  1947.1249600  1620000000000.0   \n",
      "8127  2021-04-01T17:00:00.000Z         NaN  1949.1429060  1620000000000.0   \n",
      "8128  2021-04-01T18:00:00.000Z         NaN  1941.1801240  1620000000000.0   \n",
      "8129  2021-04-01T19:00:00.000Z         NaN  1967.8214370  1620000000000.0   \n",
      "8130  2021-04-01T20:00:00.000Z         NaN  1976.6278260  1620000000000.0   \n",
      "8131  2021-04-01T21:00:00.000Z         NaN  1973.8617760  1620000000000.0   \n",
      "8132  2021-04-01T22:00:00.000Z         NaN  1966.2271750  1620000000000.0   \n",
      "8133  2021-04-01T23:00:00.000Z         NaN  1972.9438630  1620000000000.0   \n",
      "8134  2021-04-02T00:00:00.000Z         NaN  1970.6825190  1620000000000.0   \n",
      "8135  2021-04-02T01:00:00.000Z         NaN  1958.5471950  1620000000000.0   \n",
      "8136  2021-04-02T02:00:00.000Z         NaN  1994.2090540  1620000000000.0   \n",
      "8137  2021-04-02T03:00:00.000Z         NaN  1995.0523260  1620000000000.0   \n",
      "8138  2021-04-02T04:00:00.000Z         NaN  1997.4799020  1620000000000.0   \n",
      "8139  2021-04-02T05:00:00.000Z         NaN  1996.4553860  1620000000000.0   \n",
      "8140  2021-04-02T06:00:00.000Z         NaN  1993.3363790  1620000000000.0   \n",
      "8141  2021-04-02T07:00:00.000Z         NaN  1997.5105580  1620000000000.0   \n",
      "8142  2021-04-02T08:00:00.000Z         NaN  1999.4859890  1620000000000.0   \n",
      "8143  2021-04-02T09:00:00.000Z         NaN  1995.0598570  1620000000000.0   \n",
      "8144  2021-04-02T10:00:00.000Z         NaN  1997.9915440  1620000000000.0   \n",
      "8145  2021-04-02T11:00:00.000Z         NaN  2003.2929950  1620000000000.0   \n",
      "8146  2021-04-02T12:00:00.000Z         NaN  2007.9335650  1620000000000.0   \n",
      "8147  2021-04-02T13:00:00.000Z         NaN  2006.6539000  1620000000000.0   \n",
      "8148  2021-04-02T14:00:00.000Z         NaN  2007.2597780  1620000000000.0   \n",
      "8149  2021-04-02T15:00:00.000Z         NaN  2067.8244730  1620000000000.0   \n",
      "8150                       NaN         NaN  2071.9256080  1620000000000.0   \n",
      "\n",
      "      circulatingSupply                      date  \n",
      "0      1.1069843090e+08  2020-04-28T01:00:00.000Z  \n",
      "1      1.1069895840e+08  2020-04-28T02:00:00.000Z  \n",
      "2      1.1069947120e+08  2020-04-28T03:00:00.000Z  \n",
      "3      1.1070005650e+08  2020-04-28T04:00:00.000Z  \n",
      "4      1.1070062740e+08  2020-04-28T05:00:00.000Z  \n",
      "5      1.1070141230e+08  2020-04-28T06:00:00.000Z  \n",
      "6      1.1070176310e+08  2020-04-28T07:00:00.000Z  \n",
      "7      1.1070233830e+08  2020-04-28T08:00:00.000Z  \n",
      "8      1.1070288640e+08  2020-04-28T09:00:00.000Z  \n",
      "9      1.1070349650e+08  2020-04-28T10:00:00.000Z  \n",
      "10     1.1070411060e+08  2020-04-28T11:00:00.000Z  \n",
      "11     1.1070472990e+08  2020-04-28T12:00:00.000Z  \n",
      "12     1.1070546690e+08  2020-04-28T13:00:00.000Z  \n",
      "13     1.1070600810e+08  2020-04-28T14:00:00.000Z  \n",
      "14     1.1070642590e+08  2020-04-28T15:00:00.000Z  \n",
      "15     1.1070698520e+08  2020-04-28T16:00:00.000Z  \n",
      "16     1.1070751420e+08  2020-04-28T17:00:00.000Z  \n",
      "17     1.1070807660e+08  2020-04-28T18:00:00.000Z  \n",
      "18     1.1070859950e+08  2020-04-28T19:00:00.000Z  \n",
      "19     1.1070911800e+08  2020-04-28T20:00:00.000Z  \n",
      "20     1.1070991050e+08  2020-04-28T21:00:00.000Z  \n",
      "21     1.1071029670e+08  2020-04-28T22:00:00.000Z  \n",
      "22     1.1071087570e+08  2020-04-28T23:00:00.000Z  \n",
      "23     1.1071145510e+08  2020-04-29T00:00:00.000Z  \n",
      "24     1.1071221370e+08  2020-04-29T01:00:00.000Z  \n",
      "25     1.1071277870e+08  2020-04-29T02:00:00.000Z  \n",
      "26     1.1071318630e+08  2020-04-29T03:00:00.000Z  \n",
      "27     1.1071372020e+08  2020-04-29T04:00:00.000Z  \n",
      "28     1.1071431990e+08  2020-04-29T05:00:00.000Z  \n",
      "29     1.1071492220e+08  2020-04-29T06:00:00.000Z  \n",
      "...                 ...                       ...  \n",
      "8121   1.1528825780e+08  2021-04-01T11:00:00.000Z  \n",
      "8122   1.1528825780e+08  2021-04-01T12:00:00.000Z  \n",
      "8123   1.1528934660e+08  2021-04-01T13:00:00.000Z  \n",
      "8124   1.1528934660e+08  2021-04-01T14:00:00.000Z  \n",
      "8125   1.1529046070e+08  2021-04-01T15:00:00.000Z  \n",
      "8126   1.1529046070e+08  2021-04-01T16:00:00.000Z  \n",
      "8127   1.1529160920e+08  2021-04-01T17:00:00.000Z  \n",
      "8128   1.1529160920e+08  2021-04-01T18:00:00.000Z  \n",
      "8129   1.1529270710e+08  2021-04-01T19:00:00.000Z  \n",
      "8130   1.1529270710e+08  2021-04-01T20:00:00.000Z  \n",
      "8131   1.1529382120e+08  2021-04-01T21:00:00.000Z  \n",
      "8132   1.1529382120e+08  2021-04-01T22:00:00.000Z  \n",
      "8133   1.1529499340e+08  2021-04-01T23:00:00.000Z  \n",
      "8134   1.1529499340e+08  2021-04-02T00:00:00.000Z  \n",
      "8135   1.1529616570e+08  2021-04-02T01:00:00.000Z  \n",
      "8136   1.1529616570e+08  2021-04-02T02:00:00.000Z  \n",
      "8137   1.1529739090e+08  2021-04-02T03:00:00.000Z  \n",
      "8138   1.1529739090e+08  2021-04-02T04:00:00.000Z  \n",
      "8139   1.1529844790e+08  2021-04-02T05:00:00.000Z  \n",
      "8140   1.1529844790e+08  2021-04-02T06:00:00.000Z  \n",
      "8141   1.1529956820e+08  2021-04-02T07:00:00.000Z  \n",
      "8142   1.1529956820e+08  2021-04-02T08:00:00.000Z  \n",
      "8143   1.1530065720e+08  2021-04-02T09:00:00.000Z  \n",
      "8144   1.1530065720e+08  2021-04-02T10:00:00.000Z  \n",
      "8145   1.1530171970e+08  2021-04-02T11:00:00.000Z  \n",
      "8146   1.1530171970e+08  2021-04-02T12:00:00.000Z  \n",
      "8147   1.1530283090e+08  2021-04-02T13:00:00.000Z  \n",
      "8148   1.1530283090e+08  2021-04-02T14:00:00.000Z  \n",
      "8149   1.1530398320e+08  2021-04-02T15:00:00.000Z  \n",
      "8150   1.1530398320e+08  2021-04-02T16:00:00.000Z  \n",
      "\n",
      "[8151 rows x 9 columns]\n"
     ]
    }
   ],
   "source": [
    "print df"
   ]
  },
  {
   "cell_type": "code",
   "execution_count": 16,
   "metadata": {},
   "outputs": [],
   "source": [
    "x_btc=df[\"data__hour\"]\n",
    "# y_btc=df['data__priceUsd']\n",
    "# marketcap_btc=df['data__priceUsd']*df['data__circulatingSupply']"
   ]
  },
  {
   "cell_type": "code",
   "execution_count": null,
   "metadata": {},
   "outputs": [],
   "source": [
    "plt.plot(x_btc,marketcap_btc)"
   ]
  },
  {
   "cell_type": "code",
   "execution_count": null,
   "metadata": {},
   "outputs": [],
   "source": [
    "print(marketcap_btc)"
   ]
  },
  {
   "cell_type": "code",
   "execution_count": null,
   "metadata": {},
   "outputs": [],
   "source": [
    "df = pd.read_csv(\"ETH_April28_1AM_April02_15PM.csv\")"
   ]
  },
  {
   "cell_type": "code",
   "execution_count": null,
   "metadata": {},
   "outputs": [],
   "source": [
    "x_eth=df[\"time\"]"
   ]
  },
  {
   "cell_type": "code",
   "execution_count": null,
   "metadata": {},
   "outputs": [],
   "source": [
    "print(\"x_eth\")"
   ]
  },
  {
   "cell_type": "code",
   "execution_count": null,
   "metadata": {
    "scrolled": true
   },
   "outputs": [],
   "source": [
    "print(x_eth)"
   ]
  },
  {
   "cell_type": "code",
   "execution_count": null,
   "metadata": {},
   "outputs": [],
   "source": [
    "y_eth=df[\"priceUsd\"]"
   ]
  },
  {
   "cell_type": "code",
   "execution_count": null,
   "metadata": {},
   "outputs": [],
   "source": [
    "marketcap_eth=df['priceUsd']*df['circulatingSupply']"
   ]
  },
  {
   "cell_type": "code",
   "execution_count": 7,
   "metadata": {},
   "outputs": [],
   "source": [
    "ratio = df['data__priceUsd']*df['data__circulatingSupply']/df['priceUsd']/df['circulatingSupply']"
   ]
  },
  {
   "cell_type": "code",
   "execution_count": 15,
   "metadata": {},
   "outputs": [
    {
     "name": "stdout",
     "output_type": "stream",
     "text": [
      "0       6.5851299809\n",
      "1       6.5887232150\n",
      "2       6.5800762491\n",
      "3       6.5642463972\n",
      "4       6.5796155177\n",
      "5       6.5548295444\n",
      "6       6.5376176116\n",
      "7       6.5431174604\n",
      "8       6.5703714386\n",
      "9       6.5547150508\n",
      "10      6.5321140166\n",
      "11      6.5358234810\n",
      "12      6.5258328482\n",
      "13      6.5341741106\n",
      "14      6.5486490619\n",
      "15      6.5425720004\n",
      "16      6.5383638681\n",
      "17      6.5433225477\n",
      "18      6.5180358170\n",
      "19      6.5406831060\n",
      "20      6.5271493176\n",
      "21      6.5301878216\n",
      "22      6.5312985172\n",
      "23      6.5315311460\n",
      "24      6.5211764115\n",
      "25      6.5187198165\n",
      "26      6.5159635310\n",
      "27      6.5424669886\n",
      "28      6.5428019490\n",
      "29      6.5394006883\n",
      "            ...     \n",
      "8121    4.9225304180\n",
      "8122    4.9414945802\n",
      "8123    4.9458710788\n",
      "8124    4.9339279119\n",
      "8125    4.9490404291\n",
      "8126    4.9143306594\n",
      "8127    4.8892802964\n",
      "8128    4.8870172624\n",
      "8129    4.8379709937\n",
      "8130    4.8325610844\n",
      "8131    4.8356781315\n",
      "8132    4.8459223258\n",
      "8133    4.8478261029\n",
      "8134    4.8327574285\n",
      "8135    4.8511817736\n",
      "8136    4.7878021244\n",
      "8137    4.8396957392\n",
      "8138    4.8530219618\n",
      "8139    4.8373109361\n",
      "8140    4.8431047620\n",
      "8141    4.8335856961\n",
      "8142    4.8269335560\n",
      "8143    4.8358139541\n",
      "8144    4.8403107264\n",
      "8145    4.8271018709\n",
      "8146    4.8100052491\n",
      "8147    4.8081162934\n",
      "8148    4.7823557981\n",
      "8149    4.6553392639\n",
      "8150             NaN\n",
      "Length: 8151, dtype: float64\n"
     ]
    }
   ],
   "source": [
    "print(ratio)"
   ]
  },
  {
   "cell_type": "code",
   "execution_count": null,
   "metadata": {},
   "outputs": [],
   "source": []
  },
  {
   "cell_type": "code",
   "execution_count": null,
   "metadata": {},
   "outputs": [],
   "source": [
    "ratio_btc_eth = marketcap_btc/marketcap_btc"
   ]
  },
  {
   "cell_type": "code",
   "execution_count": null,
   "metadata": {},
   "outputs": [],
   "source": [
    "print(ratio_btc_eth)"
   ]
  },
  {
   "cell_type": "code",
   "execution_count": 18,
   "metadata": {},
   "outputs": [],
   "source": [
    "s_time = pd.to_datetime(x_btc).dt.tz_localize(None)"
   ]
  },
  {
   "cell_type": "code",
   "execution_count": 19,
   "metadata": {},
   "outputs": [
    {
     "data": {
      "text/plain": [
       "0      2020-04-28 01:00:00\n",
       "1      2020-04-28 02:00:00\n",
       "2      2020-04-28 03:00:00\n",
       "3      2020-04-28 04:00:00\n",
       "4      2020-04-28 05:00:00\n",
       "5      2020-04-28 06:00:00\n",
       "6      2020-04-28 07:00:00\n",
       "7      2020-04-28 08:00:00\n",
       "8      2020-04-28 09:00:00\n",
       "9      2020-04-28 10:00:00\n",
       "10     2020-04-28 11:00:00\n",
       "11     2020-04-28 12:00:00\n",
       "12     2020-04-28 13:00:00\n",
       "13     2020-04-28 14:00:00\n",
       "14     2020-04-28 15:00:00\n",
       "15     2020-04-28 16:00:00\n",
       "16     2020-04-28 17:00:00\n",
       "17     2020-04-28 18:00:00\n",
       "18     2020-04-28 19:00:00\n",
       "19     2020-04-28 20:00:00\n",
       "20     2020-04-28 21:00:00\n",
       "21     2020-04-28 22:00:00\n",
       "22     2020-04-28 23:00:00\n",
       "23     2020-04-29 00:00:00\n",
       "24     2020-04-29 01:00:00\n",
       "25     2020-04-29 02:00:00\n",
       "26     2020-04-29 03:00:00\n",
       "27     2020-04-29 04:00:00\n",
       "28     2020-04-29 05:00:00\n",
       "29     2020-04-29 06:00:00\n",
       "               ...        \n",
       "8121   2021-04-01 11:00:00\n",
       "8122   2021-04-01 12:00:00\n",
       "8123   2021-04-01 13:00:00\n",
       "8124   2021-04-01 14:00:00\n",
       "8125   2021-04-01 15:00:00\n",
       "8126   2021-04-01 16:00:00\n",
       "8127   2021-04-01 17:00:00\n",
       "8128   2021-04-01 18:00:00\n",
       "8129   2021-04-01 19:00:00\n",
       "8130   2021-04-01 20:00:00\n",
       "8131   2021-04-01 21:00:00\n",
       "8132   2021-04-01 22:00:00\n",
       "8133   2021-04-01 23:00:00\n",
       "8134   2021-04-02 00:00:00\n",
       "8135   2021-04-02 01:00:00\n",
       "8136   2021-04-02 02:00:00\n",
       "8137   2021-04-02 03:00:00\n",
       "8138   2021-04-02 04:00:00\n",
       "8139   2021-04-02 05:00:00\n",
       "8140   2021-04-02 06:00:00\n",
       "8141   2021-04-02 07:00:00\n",
       "8142   2021-04-02 08:00:00\n",
       "8143   2021-04-02 09:00:00\n",
       "8144   2021-04-02 10:00:00\n",
       "8145   2021-04-02 11:00:00\n",
       "8146   2021-04-02 12:00:00\n",
       "8147   2021-04-02 13:00:00\n",
       "8148   2021-04-02 14:00:00\n",
       "8149   2021-04-02 15:00:00\n",
       "8150                   NaT\n",
       "Name: data__hour, Length: 8151, dtype: datetime64[ns]"
      ]
     },
     "execution_count": 19,
     "metadata": {},
     "output_type": "execute_result"
    }
   ],
   "source": [
    "s_time"
   ]
  },
  {
   "cell_type": "code",
   "execution_count": 20,
   "metadata": {},
   "outputs": [
    {
     "data": {
      "text/plain": [
       "[<matplotlib.lines.Line2D at 0xbcaffd0>]"
      ]
     },
     "execution_count": 20,
     "metadata": {},
     "output_type": "execute_result"
    },
    {
     "data": {
      "image/png": "[encoded data removed]",
      "text/plain": [
       "<Figure size 432x288 with 1 Axes>"
      ]
     },
     "metadata": {
      "needs_background": "light"
     },
     "output_type": "display_data"
    }
   ],
   "source": [
    "plt.plot(s_time,ratio)"
   ]
  },
  {
   "cell_type": "code",
   "execution_count": null,
   "metadata": {},
   "outputs": [],
   "source": [
    "plt.plot(x_eth,y_eth)"
   ]
  },
  {
   "cell_type": "code",
   "execution_count": null,
   "metadata": {},
   "outputs": [],
   "source": []
  }
 ],
 "metadata": {
  "kernelspec": {
   "display_name": "Python 2",
   "language": "python",
   "name": "python2"
  },
  "language_info": {
   "codemirror_mode": {
    "name": "ipython",
    "version": 2
   },
   "file_extension": ".py",
   "mimetype": "text/x-python",
   "name": "python",
   "nbconvert_exporter": "python",
   "pygments_lexer": "ipython2",
   "version": "2.7.16"
  }
 },
 "nbformat": 4,
 "nbformat_minor": 2
}
